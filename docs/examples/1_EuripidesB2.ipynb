{
 "cells": [
  {
   "cell_type": "markdown",
   "metadata": {},
   "source": [
    "# Axial pile response in SANDS\n",
    "\n",
    "Tutorial notebook to run pile response analysis through OpenSees assuming the **new unified CPT-based method** ([Lehane et al. 2020](https://doi.org/10.1680/jgele.20.00096)) for driven piles in sands. \n",
    "\n",
    "The axial curves to simulate the load-displacement response of driven piles in sands were included through two new materials:\n",
    "- ```TzSandCPT``` for the shaft load transfer function\n",
    "- ```QbSandCPT``` for the end bearing load transfer function\n",
    "\n",
    "\n",
    "*LAST MODIFICATION:* **19/02/2024**\n",
    "*****"
   ]
  },
  {
   "cell_type": "markdown",
   "metadata": {},
   "source": [
    "This DDL is only compatible with ```python 3.8```"
   ]
  },
  {
   "cell_type": "code",
   "execution_count": 1,
   "metadata": {},
   "outputs": [
    {
     "name": "stdout",
     "output_type": "stream",
     "text": [
      "3.8.5\n"
     ]
    }
   ],
   "source": [
    "from platform import python_version\n",
    "print(python_version())"
   ]
  },
  {
   "cell_type": "code",
   "execution_count": 2,
   "metadata": {},
   "outputs": [],
   "source": [
    "import numpy as np\n",
    "import pandas as pd\n",
    "import matplotlib.pyplot as plt\n",
    "# DLL import \n",
    "import opensees as ops "
   ]
  },
  {
   "cell_type": "markdown",
   "metadata": {},
   "source": [
    "## 1. Inputs\n",
    "\n",
    "The input data is based on the EURIPIDES worked example from ([Jardine, 2005](https://www.researchgate.net/publication/266276027_ICP_design_methods_for_driven_piles_in_sands_and_clays)). Both, pile and soil inputs are obtained from the **Table B2** presented in *Appendix B*."
   ]
  },
  {
   "cell_type": "markdown",
   "metadata": {},
   "source": [
    "### Soil data\n",
    "\n",
    "CPT and effective vertical unit weight profiles as deined in **Table B2** are imported from an Excel spreadsheet as a [pandas dataframe](https://pandas.pydata.org/pandas-docs/stable/user_guide/10min.html)."
   ]
  },
  {
   "cell_type": "code",
   "execution_count": 3,
   "metadata": {},
   "outputs": [
    {
     "data": {
      "text/html": [
       "<div>\n",
       "<style scoped>\n",
       "    .dataframe tbody tr th:only-of-type {\n",
       "        vertical-align: middle;\n",
       "    }\n",
       "\n",
       "    .dataframe tbody tr th {\n",
       "        vertical-align: top;\n",
       "    }\n",
       "\n",
       "    .dataframe thead th {\n",
       "        text-align: right;\n",
       "    }\n",
       "</style>\n",
       "<table border=\"1\" class=\"dataframe\">\n",
       "  <thead>\n",
       "    <tr style=\"text-align: right;\">\n",
       "      <th></th>\n",
       "      <th>z [m]</th>\n",
       "      <th>dz [m]</th>\n",
       "      <th>Sv [kPa]</th>\n",
       "      <th>qc [MPa]</th>\n",
       "      <th>qc [kPa]</th>\n",
       "    </tr>\n",
       "  </thead>\n",
       "  <tbody>\n",
       "    <tr>\n",
       "      <th>0</th>\n",
       "      <td>0.0</td>\n",
       "      <td>0.5</td>\n",
       "      <td>0</td>\n",
       "      <td>0.0</td>\n",
       "      <td>0.0</td>\n",
       "    </tr>\n",
       "    <tr>\n",
       "      <th>1</th>\n",
       "      <td>1.0</td>\n",
       "      <td>1.0</td>\n",
       "      <td>16</td>\n",
       "      <td>5.0</td>\n",
       "      <td>5000.0</td>\n",
       "    </tr>\n",
       "    <tr>\n",
       "      <th>2</th>\n",
       "      <td>2.0</td>\n",
       "      <td>1.0</td>\n",
       "      <td>31</td>\n",
       "      <td>9.0</td>\n",
       "      <td>9000.0</td>\n",
       "    </tr>\n",
       "    <tr>\n",
       "      <th>3</th>\n",
       "      <td>3.0</td>\n",
       "      <td>1.0</td>\n",
       "      <td>47</td>\n",
       "      <td>10.0</td>\n",
       "      <td>10000.0</td>\n",
       "    </tr>\n",
       "    <tr>\n",
       "      <th>4</th>\n",
       "      <td>4.0</td>\n",
       "      <td>1.0</td>\n",
       "      <td>62</td>\n",
       "      <td>10.0</td>\n",
       "      <td>10000.0</td>\n",
       "    </tr>\n",
       "  </tbody>\n",
       "</table>\n",
       "</div>"
      ],
      "text/plain": [
       "   z [m]  dz [m]  Sv [kPa]  qc [MPa]  qc [kPa]\n",
       "0    0.0     0.5         0       0.0       0.0\n",
       "1    1.0     1.0        16       5.0    5000.0\n",
       "2    2.0     1.0        31       9.0    9000.0\n",
       "3    3.0     1.0        47      10.0   10000.0\n",
       "4    4.0     1.0        62      10.0   10000.0"
      ]
     },
     "execution_count": 3,
     "metadata": {},
     "output_type": "execute_result"
    }
   ],
   "source": [
    "path = 'Inputs/TableB2bis.xlsx'\n",
    "soil_data = pd.read_excel(path)\n",
    "soil_data['qc [kPa]'] = soil_data['qc [MPa]']*1e3 \n",
    "soil_data.head()"
   ]
  },
  {
   "cell_type": "code",
   "execution_count": 4,
   "metadata": {},
   "outputs": [
    {
     "name": "stdout",
     "output_type": "stream",
     "text": [
      "Pile length as imported=47.0 m\n"
     ]
    }
   ],
   "source": [
    "print('Pile length as imported={:.1f} m'.format(soil_data['dz [m]'].sum()))"
   ]
  },
  {
   "cell_type": "markdown",
   "metadata": {},
   "source": [
    "Let's plot the retained soil profile"
   ]
  },
  {
   "cell_type": "code",
   "execution_count": 5,
   "metadata": {},
   "outputs": [
    {
     "data": {
      "image/png": "[encoded data removed]",
      "text/plain": [
       "<Figure size 360x432 with 2 Axes>"
      ]
     },
     "metadata": {
      "needs_background": "light"
     },
     "output_type": "display_data"
    }
   ],
   "source": [
    "fig, (ax1, ax2) = plt.subplots(1, 2, sharey=True, figsize=(5, 6))\n",
    "\n",
    "ax1.plot(soil_data['qc [MPa]'], soil_data['z [m]'], 'k')\n",
    "ax1.invert_yaxis()\n",
    "ax1.set_xlabel('qc (MPa)')\n",
    "ax1.set_ylabel('z (m)')\n",
    "\n",
    "ax2.plot(soil_data['Sv [kPa]'], soil_data['z [m]'], 'k')\n",
    "\n",
    "\n",
    "ax2.set_xlabel(r'$\\sigma_v^{\\prime} (kPa)$')\n",
    "\n",
    "fig.tight_layout()"
   ]
  },
  {
   "cell_type": "markdown",
   "metadata": {},
   "source": [
    "An estimate for the end bearing capacity mobilised at large displacements at the pile tip ($q_p$) is required."
   ]
  },
  {
   "cell_type": "code",
   "execution_count": 6,
   "metadata": {},
   "outputs": [],
   "source": [
    "qp = 63e3              # (kPa)"
   ]
  },
  {
   "cell_type": "markdown",
   "metadata": {},
   "source": [
    "Nominal values for other method parameters"
   ]
  },
  {
   "cell_type": "code",
   "execution_count": 7,
   "metadata": {},
   "outputs": [],
   "source": [
    "DCPT_DEFAULT = 35.7e-3  # CPT diameter probe (m)\n",
    "PA_DEFAULT = 100.       # atmospheric pressure (kPa)"
   ]
  },
  {
   "cell_type": "markdown",
   "metadata": {},
   "source": [
    "### Pile data\n",
    "\n",
    "Pile geometry parameters are assumed as defined in Table B2: \n",
    "\n",
    "- pile diameter $D$=0.763 m \n",
    "- pile length $L$=47 m\n",
    "- pile wall thickness $t_w$=36mm"
   ]
  },
  {
   "cell_type": "code",
   "execution_count": 8,
   "metadata": {},
   "outputs": [],
   "source": [
    "L = 47.                # pile length (m)\n",
    "D = 0.763              # pile diameter (m)\n",
    "t = 36e-3              # pile wall thickness (m)"
   ]
  },
  {
   "cell_type": "markdown",
   "metadata": {},
   "source": [
    "Mechanical properties, a Young's modulus of 210 GPa is assumed for the steel."
   ]
  },
  {
   "cell_type": "code",
   "execution_count": 9,
   "metadata": {},
   "outputs": [],
   "source": [
    "E = 210e6  # kPa\n",
    "r2 = D/2; r1 = r2 - t\n",
    "A = np.pi * (np.power(r2, 2) - np.power(r1, 2))      # pile cross section area [m2]\n",
    "I = np.pi / 4 * (np.power(r2, 4) - np.power(r1, 4))  # moment of inertia [m4]"
   ]
  },
  {
   "cell_type": "markdown",
   "metadata": {},
   "source": [
    "## 2. FE model "
   ]
  },
  {
   "cell_type": "markdown",
   "metadata": {},
   "source": [
    "#### Model definition\n",
    "\n",
    "For this example, a 2D model (x, z) with three translational degrees-of-freedom is sufficient. "
   ]
  },
  {
   "cell_type": "code",
   "execution_count": 10,
   "metadata": {},
   "outputs": [],
   "source": [
    "ops.wipe()\n",
    "ops.model('basic','-ndm',2,'-ndf',3)"
   ]
  },
  {
   "cell_type": "markdown",
   "metadata": {},
   "source": [
    "#### Mesh \n",
    "\n",
    "The mesh is defined by the number of elements specified in the pile. In this example, this would be defined by the discretization step of 1 assumed for the soil profile. Therefore, there are 53 nodes and 52 elements as shown below.\n",
    "\n",
    "- pile nodes coordinates are defined by the depth values of the assumed CPT profile\n",
    "- tag of pile head node is 0 and tag pile tip is 52.\n",
    "- soil spring nodes are defined according to [this example](https://opensees.berkeley.edu/wiki/index.php/Laterally-Loaded_Pile_Foundation).\n",
    "- pile nodes are linked to the \"slave\" spring nodes using the **equalDOF** command."
   ]
  },
  {
   "cell_type": "code",
   "execution_count": 11,
   "metadata": {},
   "outputs": [
    {
     "name": "stdout",
     "output_type": "stream",
     "text": [
      "Number of pile nodes = 53\n"
     ]
    }
   ],
   "source": [
    "print('Number of pile nodes = {}'.format(soil_data.shape[0]))"
   ]
  },
  {
   "cell_type": "code",
   "execution_count": 12,
   "metadata": {},
   "outputs": [],
   "source": [
    "TAG_HEAD = soil_data.index[0]\n",
    "TAG_TOE = soil_data.index[-1]"
   ]
  },
  {
   "cell_type": "code",
   "execution_count": 13,
   "metadata": {},
   "outputs": [],
   "source": [
    "ops.wipe()\n",
    "ops.model('basic','-ndm',2,'-ndf',3)\n",
    "# \n",
    "for tag, row in soil_data.iterrows():\n",
    "    # Pile node\n",
    "    ops.node(tag, 0., -row['z [m]'])\n",
    "    # Slave node - soil spring\n",
    "    ops.node(tag+1000, 0., -row['z [m]'])\n",
    "    ops.fix(tag+1000, 1, 0, 1)\n",
    "    # Fixed node - end soil spring\n",
    "    ops.node(tag+2000, 0., -row['z [m]'])\n",
    "    ops.fix(tag+2000, 1, 1, 1)\n",
    "    # Linking pile nodes with soil nodes\n",
    "    ops.equalDOF(tag, tag+1000, 2)"
   ]
  },
  {
   "cell_type": "markdown",
   "metadata": {},
   "source": [
    "Nodes for end bearing soil spring"
   ]
  },
  {
   "cell_type": "code",
   "execution_count": 14,
   "metadata": {},
   "outputs": [],
   "source": [
    "# Slave node - soil spring\n",
    "tag = soil_data.index[-1]+3000\n",
    "ops.node(tag, 0., -row['z [m]'])\n",
    "ops.fix(tag, 1, 0, 1)\n",
    "# Fixed node - end soil spring\n",
    "tag = soil_data.index[-1]+4000\n",
    "ops.node(tag, 0., -row['z [m]'])\n",
    "ops.fix(tag, 1, 1, 1)\n",
    "# Linking pile nodes with soil nodes\n",
    "tag = soil_data.index[-1]\n",
    "ops.equalDOF(tag, tag+3000, 2)"
   ]
  },
  {
   "cell_type": "code",
   "execution_count": 15,
   "metadata": {},
   "outputs": [
    {
     "name": "stdout",
     "output_type": "stream",
     "text": [
      "Tag constrained node Q-z spring 3052\n"
     ]
    }
   ],
   "source": [
    "TAG_QZ = tag+3000\n",
    "print('Tag constrained node Q-z spring {}'.format(tag+3000))"
   ]
  },
  {
   "cell_type": "markdown",
   "metadata": {},
   "source": [
    "#### Pile elements\n",
    "\n",
    "Euler-Bernouilli beam elements to discretize the pile"
   ]
  },
  {
   "cell_type": "code",
   "execution_count": 16,
   "metadata": {},
   "outputs": [],
   "source": [
    "transf_tag = 1\n",
    "ops.geomTransf('Linear', transf_tag) \n",
    "for tag, row in soil_data.iterrows():\n",
    "    if tag != soil_data.index[-1]:\n",
    "        ops.element('elasticBeamColumn', tag, tag, tag+1, A, E, I, transf_tag)"
   ]
  },
  {
   "cell_type": "markdown",
   "metadata": {},
   "source": [
    "#### t-z springs \n",
    "\n",
    "Shaft load transfer functions for sands according to the new unified CPT-based method.\n",
    "\n",
    "**NOTE**: by default the material assumes an ultimate interface friction angle of 29º unless other values is passed by the user."
   ]
  },
  {
   "cell_type": "code",
   "execution_count": 17,
   "metadata": {},
   "outputs": [],
   "source": [
    "for tag, row in soil_data.iterrows():\n",
    "    # Creating material to simulate shaft load transfer function\n",
    "    ops.uniaxialMaterial('TzSandCPT',\n",
    "                         tag+1000,\n",
    "                         row[\"qc [kPa]\"],\n",
    "                         row[\"Sv [kPa]\"],\n",
    "                         D,\n",
    "                         t,\n",
    "                         L - row[\"z [m]\"],\n",
    "                         row[\"dz [m]\"],\n",
    "                         DCPT_DEFAULT,\n",
    "                         PA_DEFAULT\n",
    "                         )\n",
    "    # t-z curve\n",
    "    ops.element('zeroLength', tag+1000, tag+1000, tag+2000, '-mat', tag+1000, '-dir', 2)"
   ]
  },
  {
   "cell_type": "markdown",
   "metadata": {},
   "source": [
    "#### Q-z springs\n",
    "\n",
    "End bering load transfer function for sands according to the new unified CPT-based method."
   ]
  },
  {
   "cell_type": "code",
   "execution_count": 18,
   "metadata": {},
   "outputs": [],
   "source": [
    "# Creating material to simulate end bearing transfer function\n",
    "tag = soil_data.index[-1]+ 3000\n",
    "ops.uniaxialMaterial('QbSandCPT',\n",
    "                     tag,\n",
    "                     qp,\n",
    "                     D,\n",
    "                     t,\n",
    "                     DCPT_DEFAULT\n",
    "                     )\n",
    "# Q-z curve\n",
    "ops.element('zeroLength', tag, tag, tag+1000, '-mat', tag, '-dir', 2)"
   ]
  },
  {
   "cell_type": "markdown",
   "metadata": {},
   "source": [
    "Model info can be visualized as follows."
   ]
  },
  {
   "cell_type": "code",
   "execution_count": 19,
   "metadata": {},
   "outputs": [],
   "source": [
    "#ops.printModel()"
   ]
  },
  {
   "cell_type": "markdown",
   "metadata": {},
   "source": [
    "## 3. FE analysis\n",
    "\n",
    "Diplacement controlled static analysis"
   ]
  },
  {
   "cell_type": "markdown",
   "metadata": {},
   "source": [
    "### Compresssion\n",
    "\n",
    "Negative displacement for settlement should be passed according to our reference system"
   ]
  },
  {
   "cell_type": "code",
   "execution_count": 20,
   "metadata": {},
   "outputs": [],
   "source": [
    "# Create a Plain load pattern with a Linear TimeSeries\n",
    "ops.timeSeries('Linear', 1) \n",
    "ops.pattern('Plain', 1, 1)\n",
    "ops.load(0, 0, 1, 0)"
   ]
  },
  {
   "cell_type": "code",
   "execution_count": 21,
   "metadata": {},
   "outputs": [],
   "source": [
    "ops.wipeAnalysis()\n",
    "ops.constraints(\"Transformation\")\n",
    "# 2. numberer\n",
    "ops.numberer(\"RCM\")\n",
    "# 3. system\n",
    "ops.system(\"SparseGeneral\")\n",
    "# 4. test\n",
    "ops.test(\"NormDispIncr\", 1e-6, 25, 0)\n",
    "# 5. algorithm\n",
    "ops.algorithm(\"Newton\")\n",
    "# 6. integrator\n",
    "dU = -0.001  # Displacement increment (1mm)\n",
    "ops.integrator('DisplacementControl', 0, 2, dU, 1, dU, dU)\n",
    "# 7. analysis\n",
    "ops.analysis(\"Static\")"
   ]
  },
  {
   "cell_type": "markdown",
   "metadata": {},
   "source": [
    "Running static analysis until plasticity will be reached"
   ]
  },
  {
   "cell_type": "code",
   "execution_count": 22,
   "metadata": {},
   "outputs": [],
   "source": [
    "TOL = 1e-4  # tolerance \n",
    "head_load = []; head_disp = []; toe_disp = []; toe_load = []\n",
    "ok = 2\n",
    "delta = 1.\n",
    "while abs(delta) >= TOL:\n",
    "    ok = ops.analyze(1)\n",
    "    # Calculating displacement difference between two latest steps\n",
    "    try:\n",
    "        delta = ops.getLoadFactor(1)- head_load[-1]\n",
    "    except IndexError:\n",
    "        pass\n",
    "    # Saving outputs\n",
    "    head_load.append(ops.getLoadFactor(1))\n",
    "    head_disp.append(ops.nodeDisp(TAG_HEAD, 2))\n",
    "    toe_disp.append(ops.nodeDisp(TAG_TOE, 2))\n",
    "    ops.reactions()\n",
    "    toe_load.append(ops.nodeReaction(TAG_QZ, 2))\n",
    "# Converting to numpy array stored outputs\n",
    "head_disp = np.array(head_disp); toe_disp = np.array(toe_disp) \n",
    "head_load = np.array(head_load); toe_load = np.array(toe_load)"
   ]
  },
  {
   "cell_type": "markdown",
   "metadata": {},
   "source": [
    "**Plot**\n",
    "\n",
    "Back-bone curve at pile head and simulated end bearing"
   ]
  },
  {
   "cell_type": "code",
   "execution_count": 23,
   "metadata": {},
   "outputs": [
    {
     "data": {
      "image/png": "[encoded data removed]",
      "text/plain": [
       "<Figure size 720x288 with 2 Axes>"
      ]
     },
     "metadata": {
      "needs_background": "light"
     },
     "output_type": "display_data"
    }
   ],
   "source": [
    "fig, (ax1, ax2) = plt.subplots(1, 2, figsize=(10, 4))\n",
    "\n",
    "ax1.plot(np.abs(head_disp), np.abs(head_load)*1e-3, 'k')\n",
    "ax1.set_ylabel('Force (MN)')\n",
    "ax1.set_xlabel('Displacement (m)')\n",
    "ax1.set_title('Pile head')\n",
    "\n",
    "ax2.plot(np.abs(toe_disp), np.abs(toe_load)*1e-3, 'b--')\n",
    "ax2.set_ylabel('Force (MN)')\n",
    "ax2.set_xlabel('Displacement (m)')\n",
    "ax2.set_title('End bearing')\n",
    "\n",
    "fig.tight_layout()"
   ]
  },
  {
   "cell_type": "markdown",
   "metadata": {},
   "source": [
    "##### Computed capacities\n",
    "\n",
    "The estimated capacities are as follows."
   ]
  },
  {
   "cell_type": "code",
   "execution_count": 24,
   "metadata": {},
   "outputs": [
    {
     "name": "stdout",
     "output_type": "stream",
     "text": [
      "Total axial capacity (compression) = 18.70 MN\n",
      "Shaft capacity (compression) = 12.08 MN\n",
      "End bearing capacity (compression) = 6.62 MN\n"
     ]
    }
   ],
   "source": [
    "Qt = np.abs(head_load).max()*1e-3  # total capacity in compression (MN)\n",
    "Qb = np.abs(toe_load).max()*1e-3   # base or end bearing capacity (MN)\n",
    "Qs = Qt - Qb                       # shaft capacity \n",
    "print('Total axial capacity (compression) = {:.2f} MN'.format(Qt))\n",
    "print('Shaft capacity (compression) = {:.2f} MN'.format(Qs))\n",
    "print('End bearing capacity (compression) = {:.2f} MN'.format(Qb))"
   ]
  },
  {
   "cell_type": "markdown",
   "metadata": {},
   "source": [
    "The computed axial capacity under compression is 18.70 MN, a similar value of 19.58 MN is reported for this example following the ICP design method. Both approaches are demed to produce similar esimates, in terms of inputs we've considered the same assumptions but the interface friction angles reported.\n",
    "\n",
    "**TO CHECK**\n",
    "\n",
    "The method assumes that shaft capacity in tension is equalt to 75% of the shaft compression capacity. If the method and modeling are used correctly, we should find the following capactity estimate when running the analysis for tension loading (end bearing should be 0)."
   ]
  },
  {
   "cell_type": "code",
   "execution_count": 25,
   "metadata": {},
   "outputs": [
    {
     "name": "stdout",
     "output_type": "stream",
     "text": [
      "Tension capacity should be about of 9.06 MN\n"
     ]
    }
   ],
   "source": [
    "print('Tension capacity should be about of {:.2f} MN'.format(0.75 * Qs))"
   ]
  },
  {
   "cell_type": "markdown",
   "metadata": {},
   "source": [
    "### Tension\n",
    "\n",
    "Positive displacement for tension loading should be passed according to our reference system"
   ]
  },
  {
   "cell_type": "code",
   "execution_count": 26,
   "metadata": {},
   "outputs": [],
   "source": [
    "ops.reset()\n",
    "ops.wipeAnalysis()\n",
    "ops.constraints(\"Transformation\")\n",
    "# 2. numberer\n",
    "ops.numberer(\"RCM\")\n",
    "# 3. system\n",
    "ops.system(\"SparseGeneral\")\n",
    "# 4. test\n",
    "ops.test(\"NormDispIncr\", 1e-6, 25, 0)\n",
    "# 5. algorithm\n",
    "ops.algorithm(\"Newton\")\n",
    "# 6. integrator\n",
    "dU = 0.001  # Displacement increment (1mm)\n",
    "ops.integrator('DisplacementControl', 0, 2, dU, 1, dU, dU)\n",
    "# 7. analysis\n",
    "ops.analysis(\"Static\")"
   ]
  },
  {
   "cell_type": "code",
   "execution_count": 27,
   "metadata": {},
   "outputs": [],
   "source": [
    "TOL = 1e-4  # tolerance \n",
    "head_load_T = []; head_disp_T = []; toe_disp_T = []; toe_load_T = []\n",
    "delta = 1.\n",
    "while abs(delta) >= TOL:\n",
    "    ok = ops.analyze(1)\n",
    "    # Calculating displacement difference between two latest steps\n",
    "    try:\n",
    "        delta = ops.getLoadFactor(1)- head_load_T[-1]\n",
    "    except IndexError:\n",
    "        pass\n",
    "    # Saving outputs\n",
    "    head_load_T.append(ops.getLoadFactor(1))\n",
    "    head_disp_T.append(ops.nodeDisp(TAG_HEAD, 2))\n",
    "    toe_disp_T.append(ops.nodeDisp(TAG_TOE, 2))\n",
    "    ops.reactions()\n",
    "    toe_load_T.append(ops.nodeReaction(TAG_QZ, 2))\n",
    "# Converting to numpy array stored outputs\n",
    "head_disp_T = np.array(head_disp_T); toe_disp_T = np.array(toe_disp_T) \n",
    "head_load_T = np.array(head_load_T); toe_load_T = np.array(toe_load_T)"
   ]
  },
  {
   "cell_type": "markdown",
   "metadata": {},
   "source": [
    "Plot"
   ]
  },
  {
   "cell_type": "code",
   "execution_count": 28,
   "metadata": {},
   "outputs": [
    {
     "data": {
      "image/png": "[encoded data removed]",
      "text/plain": [
       "<Figure size 720x288 with 2 Axes>"
      ]
     },
     "metadata": {
      "needs_background": "light"
     },
     "output_type": "display_data"
    }
   ],
   "source": [
    "fig, (ax1, ax2) = plt.subplots(1, 2, figsize=(10, 4))\n",
    "\n",
    "ax1.plot(np.abs(head_disp_T), np.abs(head_load_T)*1e-3, 'k')\n",
    "ax1.set_ylabel('Force (MN)')\n",
    "ax1.set_xlabel('Displacement (m)')\n",
    "ax1.set_title('Pile head')\n",
    "\n",
    "ax2.plot(np.abs(toe_disp_T), np.abs(toe_load_T)*1e-3, 'b--')\n",
    "ax2.set_ylabel('Force (MN)')\n",
    "ax2.set_xlabel('Displacement (m)')\n",
    "ax2.set_title('End bearing')\n",
    "\n",
    "fig.tight_layout()"
   ]
  },
  {
   "cell_type": "markdown",
   "metadata": {},
   "source": [
    "##### Computed capacities\n",
    "\n",
    "The estimated capacities are as follows."
   ]
  },
  {
   "cell_type": "code",
   "execution_count": 29,
   "metadata": {},
   "outputs": [
    {
     "name": "stdout",
     "output_type": "stream",
     "text": [
      "Total axial capacity (tension) = 9.06 MN\n",
      "Shaft capacity (tension) = 9.06 MN\n",
      "End bearing capacity (tension) = 0.00 MN\n"
     ]
    }
   ],
   "source": [
    "Qt_T = np.abs(head_load_T).max()*1e-3  # total capacity in compression (MN)\n",
    "Qb_T = np.abs(toe_load_T).max()*1e-3   # base or end bearing capacity (MN)\n",
    "Qs_T = Qt_T - Qb_T                     # shaft capacity \n",
    "print('Total axial capacity (tension) = {:.2f} MN'.format(Qt_T))\n",
    "print('Shaft capacity (tension) = {:.2f} MN'.format(Qs_T))\n",
    "print('End bearing capacity (tension) = {:.2f} MN'.format(Qb_T))"
   ]
  },
  {
   "cell_type": "markdown",
   "metadata": {},
   "source": [
    "**:)**"
   ]
  }
 ],
 "metadata": {
  "kernelspec": {
   "display_name": "Python 3",
   "language": "python",
   "name": "python3"
  },
  "language_info": {
   "codemirror_mode": {
    "name": "ipython",
    "version": 3
   },
   "file_extension": ".py",
   "mimetype": "text/x-python",
   "name": "python",
   "nbconvert_exporter": "python",
   "pygments_lexer": "ipython3",
   "version": "3.8.5"
  }
 },
 "nbformat": 4,
 "nbformat_minor": 5
}
